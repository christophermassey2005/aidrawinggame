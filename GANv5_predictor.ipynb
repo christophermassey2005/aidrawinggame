{
  "nbformat": 4,
  "nbformat_minor": 0,
  "metadata": {
    "colab": {
      "provenance": [],
      "authorship_tag": "ABX9TyOv/VvyGfkGEUqI18+lm7yk",
      "include_colab_link": true
    },
    "kernelspec": {
      "name": "python3",
      "display_name": "Python 3"
    },
    "language_info": {
      "name": "python"
    }
  },
  "cells": [
    {
      "cell_type": "markdown",
      "metadata": {
        "id": "view-in-github",
        "colab_type": "text"
      },
      "source": [
        "<a href=\"https://colab.research.google.com/github/christophermassey2005/aidrawinggame/blob/main/GANv5_predictor.ipynb\" target=\"_parent\"><img src=\"https://colab.research.google.com/assets/colab-badge.svg\" alt=\"Open In Colab\"/></a>"
      ]
    },
    {
      "cell_type": "code",
      "execution_count": null,
      "metadata": {
        "colab": {
          "base_uri": "https://localhost:8080/",
          "height": 282
        },
        "id": "npMNTSDDOaaK",
        "outputId": "d9a23f64-033a-4ffc-8b67-97c697126eb3"
      },
      "outputs": [
        {
          "output_type": "stream",
          "name": "stderr",
          "text": [
            "WARNING:tensorflow:No training configuration found in the save file, so the model was *not* compiled. Compile it manually.\n"
          ]
        },
        {
          "output_type": "stream",
          "name": "stdout",
          "text": [
            "1/1 [==============================] - 0s 102ms/step\n"
          ]
        },
        {
          "output_type": "display_data",
          "data": {
            "text/plain": [
              "<Figure size 432x288 with 1 Axes>"
            ],
            "image/png": "[encoded data removed]"
          },
          "metadata": {
            "needs_background": "light"
          }
        }
      ],
      "source": [
        "from google.colab import drive\n",
        "from keras.datasets.cifar10 import load_data\n",
        "from keras.preprocessing.image import ImageDataGenerator\n",
        "from keras.optimizers import Adam\n",
        "from keras.models import Sequential\n",
        "from keras.layers import Dense\n",
        "from keras.layers import Reshape\n",
        "from keras.layers import Flatten\n",
        "from keras.layers import Conv2D\n",
        "from keras.layers import Conv2DTranspose\n",
        "from keras.layers import LeakyReLU\n",
        "from keras.layers import Dropout\n",
        "from keras.utils.vis_utils import plot_model\n",
        "from numpy.random import randint\n",
        "from numpy.random import rand\n",
        "from numpy import zeros\n",
        "from numpy import ones\n",
        "from numpy import expand_dims\n",
        "import numpy as np\n",
        "from numpy.random import randn\n",
        "from numpy.random import randint\n",
        "from keras.models import load_model\n",
        "from matplotlib import pyplot as plt\n",
        "from PIL import Image\n",
        "\n",
        "#drive.mount('/content/drive', force_remount=True)\n",
        "#!unzip drive/MyDrive/finalitemsv2v1lost.zip\n",
        "\n",
        "def generate_latent_points(latent_dim, n_samples):\n",
        "\t# generate points in the latent space\n",
        "\tx_input = randn(latent_dim * n_samples)\n",
        "\t# reshape into a batch of inputs for the network\n",
        "\tx_input = x_input.reshape(n_samples, latent_dim)\n",
        "\treturn x_input\n",
        "\n",
        "\n",
        "# Plot generated images\n",
        "def show_plot(examples, n):\n",
        "\tfor i in range(n * n):\n",
        "\t\tplt.subplot(n, n, 1 + i)\n",
        "\t\tplt.axis('off')\n",
        "\t\tplt.imshow(examples[i, :, :, :])\n",
        "\tplt.show()\n",
        "\n",
        "# load model\n",
        "model = load_model('wine glass.h5') #Model trained for 100 epochs\n",
        "# generate images\n",
        "latent_points = generate_latent_points(100, 1)  #Latent dim and n_samples\n",
        "# generate images\n",
        "X = model.predict(latent_points)\n",
        "# scale from [-1,1] to [0,1]\n",
        "X = (X + 1) / 2.0\n",
        "\n",
        "import numpy as np\n",
        "X = (X*255).astype(np.uint8)\n",
        "\n",
        "# plot the result\n",
        "show_plot(X, 1)\n",
        "\n",
        "img = Image.fromarray(X[0], 'RGB')\n",
        "img.save('wine glass.png')"
      ]
    }
  ]
}